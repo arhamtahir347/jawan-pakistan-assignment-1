{
 "cells": [
  {
   "cell_type": "code",
   "execution_count": 1,
   "id": "a4691596",
   "metadata": {},
   "outputs": [
    {
     "name": "stdout",
     "output_type": "stream",
     "text": [
      "Twinkle,Twinkle,Little Star,\n",
      "\tHow I Wonder What Your Are!\n",
      "\t\tUp Above World So High,\n",
      "\t\tLike A Diamond In The Sky.\n",
      "Twinkle Twinkle Little Star\n",
      "\tHow I Wonder What Your Are!\n"
     ]
    }
   ],
   "source": [
    "str = \"twinkle,twinkle,little star,\"\"\\n\"\"\\thow I wonder what your are!\"\"\\n\"\"\\t\\tup above world so high,\"\"\\n\"\"\\t\\tlike a diamond in the sky.\"\"\\n\"\"twinkle twinkle little star\"\"\\n\"\"\\thow i wonder what your are!\"\n",
    "print(str.title())"
   ]
  },
  {
   "cell_type": "code",
   "execution_count": 2,
   "id": "8a37257f",
   "metadata": {},
   "outputs": [
    {
     "name": "stdout",
     "output_type": "stream",
     "text": [
      "3.9.7 (default, Sep 16 2021, 16:59:28) [MSC v.1916 64 bit (AMD64)]\n"
     ]
    }
   ],
   "source": [
    "import sys\n",
    "print(sys.version)\n"
   ]
  },
  {
   "cell_type": "code",
   "execution_count": 3,
   "id": "a31a23c0",
   "metadata": {},
   "outputs": [
    {
     "name": "stdout",
     "output_type": "stream",
     "text": [
      "2022-01-01 15:25:42.047842\n"
     ]
    }
   ],
   "source": [
    "import datetime\n",
    "print(datetime.datetime.now())"
   ]
  },
  {
   "cell_type": "code",
   "execution_count": null,
   "id": "2ad5ab90",
   "metadata": {},
   "outputs": [],
   "source": [
    "r = eval(input(\"Enter a radius:\"))\n",
    "pi = 3.14\n",
    "print(\"Area of a circle:\",pi*(r**2),\"sq cm\")"
   ]
  },
  {
   "cell_type": "code",
   "execution_count": null,
   "id": "2fbff3bb",
   "metadata": {},
   "outputs": [],
   "source": [
    "a = input(\"Enter A First Name:\")\n",
    "b = input(\"Enter A Last Name:\")\n",
    "print(b,a)\n"
   ]
  },
  {
   "cell_type": "code",
   "execution_count": null,
   "id": "7c58f798",
   "metadata": {},
   "outputs": [],
   "source": [
    "a = eval(input(\"Enter A First Number:\"))\n",
    "b = eval(input(\"Enter A Last Number:\"))\n",
    "print(\"The sum of number is:\",a+b)"
   ]
  }
 ],
 "metadata": {
  "kernelspec": {
   "display_name": "Python 3 (ipykernel)",
   "language": "python",
   "name": "python3"
  },
  "language_info": {
   "codemirror_mode": {
    "name": "ipython",
    "version": 3
   },
   "file_extension": ".py",
   "mimetype": "text/x-python",
   "name": "python",
   "nbconvert_exporter": "python",
   "pygments_lexer": "ipython3",
   "version": "3.9.7"
  }
 },
 "nbformat": 4,
 "nbformat_minor": 5
}
